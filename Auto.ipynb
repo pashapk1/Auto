{
  "cells": [
    {
      "cell_type": "markdown",
      "metadata": {
        "id": "u167f7pgAmJ8"
      },
      "source": [
        "<hr color=red>\n",
        "\n",
        "# **Task 1, Theory**"
      ]
    },
    {
      "cell_type": "markdown",
      "metadata": {
        "id": "N1eIgznOCpeN"
      },
      "source": [
        "#**1.** \n",
        "Draw an example (of your own invention) of a partition of two-dimensional feature space that could result from recursive binary\n",
        "splitting. Your example should contain at least six regions. Draw a\n",
        "decision tree corresponding to this partition. Be sure to label all aspects of your figures, including the regions $R_1, R_2,...$, the cutpoints\n",
        "$t_1, t_2,...$, and so forth.\n",
        "\n",
        "*Hint: Your result should look something like Figures 8.1 and 8.2.*"
      ]
    },
    {
      "cell_type": "markdown",
      "metadata": {
        "id": "o9H19L8od2Kf"
      },
      "source": [
        "## **SOLUTION**\n",
        "Assuming there is a job dataset with salary, age and experience columns. Age and experience measured in years and Salary in thousand of dollars. Let salary be dependent variable and age, experience be regressors. Then creating a decision tree of own invention would be as follows:   \n",
        "![](https://drive.google.com/uc?export=view&id=1QOkHIgmtHmFiqGy6J5BIZKcPRYqjN4Gj)\n",
        "![](https://drive.google.com/uc?export=view&id=1VDvPjCovsWM5spnqbyAI7OfEm7AVLHTS)\n"
      ]
    },
    {
      "cell_type": "markdown",
      "metadata": {
        "id": "kNFZPVXRa6pF"
      },
      "source": [
        "#**2.** \n",
        "Given [iid](https://en.wikipedia.org/wiki/Independent_and_identically_distributed_random_variables) $Z_1,...,Z_n$ random variables of the form $Z\\sim\\mathcal N(\\mathbb E Z, 1)$,\n",
        "1. derive $\\mathcal{Z}$, an [MLE](https://en.wikipedia.org/wiki/Maximum_likelihood_estimation) of $\\mathbb{E}Z$, via least squares minimization of $Z_i$ and their mean\n",
        "1. show that $\\mathbb E \\mathcal Z=\\mathbb E Z$, i.e. this MLE is an unbiased estimator of its estimand\n",
        "1. derive $\\mathbb V \\mathcal Z$, i.e. the variance of the MLE\n",
        " \n",
        "Rigorously justify each equality/inequality transition (of course)!"
      ]
    },
    {
      "cell_type": "markdown",
      "metadata": {
        "id": "8mg1B4InVp3-"
      },
      "source": [
        "## **SOLUTION**\n",
        "1) We are given $Z\\sim\\mathcal N(\\mathbb E Z, 1)$, let $\\mathbb E Z$ be $\\mu$ The liklihood function as we know is: $$L = \\prod^n_{i=1} = f(Z_i|\\mu, 1) = \\prod^n_{i=1} \\frac{1}{\\sqrt{2\\pi}} \\cdot exp\\left(-\\frac{1}{2}(Z_i - \\mu)^2\\right)$$ $$\\implies L =  \\left(\\frac{1}{\\sqrt{2\\pi}}\\right)^n \\cdot exp\\left( -\\frac{1}{2}\\sum^n_{i=1}(Z_i - \\mu)^2 \\right)$$\n",
        "\n",
        "Taking logarithm on both sides: $$lnL = -\\frac{n}{2} \\cdot ln(2\\pi) - \\frac{1}{2} \\sum^n_{i = 1} (Z_i - \\mu)^2\\;\\;\\;\\;(1)$$ \n",
        "\n",
        "Differentiating with respect to $\\mu$ to find global maxima: $$ 0 - \\frac{1 \\cdot 2}{2} \\cdot (-1) \\sum^n_{i=1} (Z_i - \\mu) = 0$$ $$\\implies \\mathcal{Z} = \\sum^n_{i=1}\\frac{Z_i}{n} = \\bar{Z}$$\n",
        "\n",
        "This is the maximum as checking second derivative with respect to $\\mu$ we get $-n < 0$. From maximising the liklihood function (1) is same as minimising square sum of differences between sample and population mean. In (1), $-\\frac{n}{2}ln(2\\pi)$ is constant and does not depend on $\\mu$. The $ \\sum^n_{i = 1} (Z_i - \\mu)^2 $ term is OLS between samples and population mean $= \\bar{Z}$. Hence MLE and OLS are the same for normally distributed error term.     \n",
        "\n",
        "2) $\\mathbb{E}\\mathcal{Z} = \\mathbb{E}\\left[ \\frac{\\sum^n_{i=1} Z_i}{n} \\right] = \\frac{\\sum^n_{i=1}\\mathbb{E}\\left[ Z_i\\right]}{n} = \\frac{\\sum^n_{i=1} \\mu}{n} = \\mu$\n",
        "\n",
        "Hence we see that $\\mathbb{E}\\mathcal{Z}$ is unbiased.\n",
        "\n",
        "3) $Var(\\mathcal{Z}) = Var(\\frac{\\sum^n_{i=1} Z_i}{n}) = \\frac{1}{n^2} \\sum^n_{i=1}Var(Z_i) = \\frac{1}{n^2} \\sum^n_{i=1}Var(Z) = \\frac{1}{n^2} \\sum^n_{i=1} 1 = \\frac{n}{n^2} = \\frac{1}{n}$"
      ]
    },
    {
      "cell_type": "markdown",
      "metadata": {
        "id": "QMn2ERfIy9fa"
      },
      "source": [
        "#**3.** \n",
        "**Answer the following questions and provide all necessary justifications:**\n",
        "\n",
        "**a)** We know that linear models have a small bias when the true relationship in the data is also linear, and a large bias if it is not. Is there a similar situation with decision trees? When do linear models work better than decision trees and vice versa? (*Hint: recall the Bias-Variance tradeoff*)\n",
        "\n",
        "**b)** What happens when we set a depth limit or minimum number of objects in each leaf in our tree?\n",
        "\n",
        "**с)** When will a tree be heavily overfitted? Can a random forest be overfitted as the number of trees grows?\n",
        "\n",
        "**d)** Is it true that boosting is similar to bagging, since it uses a weighted sum of algorithms, but unlike it, it selects weights depending on the quality of the algorithm? \n",
        "\n",
        "**e)** Recall the esemblies that you know. Describe the  algorithm for any two of them and compare them at different aspects (efficiency, preliminary assumptions, complexity and so on for your own choice)."
      ]
    },
    {
      "cell_type": "markdown",
      "metadata": {
        "id": "mReESLV9zCiZ"
      },
      "source": [
        "## **SOLUTION**\n",
        "\n",
        "a) We may claim that a comparable scenario exists, but it is not as closely linked to data relationships as linear models are. We can safely assume that when the relationship in data is linear, the linear model outperforms the latter. On the other hand, for non-linear relationships decision trees are far superior due to their semantics. Bias-Variance tradeoff does exist with decision trees in a similar way as linear model, a balance can be obtained by pruning or bagging.\n",
        "\n",
        "b) When we set a depth limit or minimum number of objects in each leaf in our tree we are restricting our model. This decreases training performance but increases it's interpretability, allowing us to better understand model decisions. Not only that but it also prevents overfitting from occuring.\n",
        "\n",
        "c) Trees can easily be overfitted when they are fully grown, they lose their generalization capability, giving very high train accuracy and low test accuracy. As the number of trees grows in a forest the overfitting decreases. \n",
        "\n",
        "Random Forests do not overfit. The testing performance of Random Forests does not decrease as the number of trees increases. Hence after certain number of trees the performance tend to stay in a certain value\n",
        "\n",
        "d) This is indeed true, boosting chooses weights from previously obained trees measuring it's quality by using residuals. So boosting and bagging are close in nature by the fact that they choose models similiarly, but bagging uses all trees at once, whereas boosting simulates the weights sequentially.\n",
        "\n",
        "e) There are two ensemblies: bagging and boosting: \n",
        "1. Bagging - Algorithm for reducing model variance by bootstrapping initial dataset, by building tree on samples and then take weight of each and obtain best one by averaging.\n",
        "2. Boosting - Sequential algorithm that invovles growing a tree, by adding parameters to null model, compute residual and then increase depth of tree and fit previous model, obtaining new residuals and repeating. Hence the model trains on growing depth of tree, obtaining best model.\n",
        "\n",
        "Between both ensemblies they take quite some time, however Boosting has more efficiency due it being sequential, since it trains in the process despite being slower than Bagging. The complexity of Boosting is much larger, due to sequential process and the tuning of parameters. "
      ]
    },
    {
      "cell_type": "markdown",
      "metadata": {
        "id": "FEyntafCbBOS"
      },
      "source": [
        "<hr color=red>\n",
        "\n",
        "# **Task 2: Auto via Kaggle**\n",
        "Restricted to students from HSE ML courses, Fall 2021\n",
        "\n",
        "* Do not modify any code until timer starts. Your installs, package imports, code, and modeling should start after timer."
      ]
    },
    {
      "cell_type": "code",
      "execution_count": null,
      "metadata": {
        "colab": {
          "base_uri": "https://localhost:8080/"
        },
        "id": "ToKDfNMabFMF",
        "outputId": "51a2ca19-183a-4e92-9903-c2377ddac0cc"
      },
      "outputs": [
        {
          "name": "stdout",
          "output_type": "stream",
          "text": [
            "timer started\n",
            "CPU times: user 15.1 s, sys: 203 ms, total: 15.3 s\n",
            "Wall time: 15.3 s\n"
          ]
        }
      ],
      "source": [
        "%%time\n",
        "%reset -f\n",
        "from IPython.core.interactiveshell import InteractiveShell as IS; IS.ast_node_interactivity = \"all\" \n",
        "import pandas as pd, time, numpy as np\n",
        "from sklearn.model_selection import train_test_split\n",
        "from sklearn.datasets import fetch_openml\n",
        "from sklearn.multioutput import MultiOutputRegressor\n",
        "from sklearn.linear_model import Ridge\n",
        "ToCSV = lambda df, fname: df.round(2).to_csv(f'{fname}.csv', index_label='id') # rounds values to 2 decimals\n",
        "\n",
        "class Timer():\n",
        "  def __init__(self, lim:'RunTimeLimit'=60): self.t0, self.lim, _ = time.time(), lim, print('timer started')\n",
        "  def ShowTime(self):\n",
        "    msg = f'Runtime is {time.time()-self.t0:.0f} sec'\n",
        "    print(f'\\033[91m\\033[1m' + msg + f' > {self.lim} sec limit!!!\\033[0m' if (time.time()-self.t0-1) > self.lim else msg)\n",
        "\n",
        "np.set_printoptions(linewidth=10000, precision=4, edgeitems=20, suppress=True)\n",
        "pd.set_option('max_rows', 100, 'max_columns', 100, 'max_colwidth', 100, 'precision', 2, 'display.max_rows', 4)\n",
        "\n",
        "db = fetch_openml('BNG(auto_price)')   # load databunch (dictionary) \n",
        "tX = pd.DataFrame(db['data'], columns=db['feature_names'])\n",
        "tX['price'] = db['target']\n",
        "YCols = ['city-mpg','highway-mpg','price']  # 3 targets\n",
        "tY = tX[YCols]\n",
        "tX.drop(YCols, axis=1, inplace=True)\n",
        "# tY = pd.Series(db['target'], name='price')\n",
        "tX, vX, tY, DO_NOT_USE = train_test_split(tX, tY, train_size=0.7, random_state=0, shuffle=True)\n",
        "# ToCSV(DO_NOT_USE, 'testY')   # Students cannot use these test values\n",
        "  del DO_NOT_USE\n",
        "tX\n",
        "tY\n",
        "tmr = Timer() # runtime limit (in seconds). Add all of your code after the timer"
      ]
    },
    {
      "cell_type": "markdown",
      "metadata": {
        "id": "0V0OI7MibNYb"
      },
      "source": [
        "# **Your Code and Timer Start Here**"
      ]
    },
    {
      "cell_type": "markdown",
      "metadata": {
        "id": "yn0x3x43bSO5"
      },
      "source": [
        "* Instructions: when ready to submit, don't forget to justify your modeling decisions"
      ]
    },
    {
      "cell_type": "markdown",
      "metadata": {
        "id": "-nnK53pcbVY0"
      },
      "source": [
        "# **Starter Ideas**"
      ]
    },
    {
      "cell_type": "markdown",
      "metadata": {
        "id": "cn7E4huqbY-I"
      },
      "source": [
        "1. Try modeling each output separately from inputs or from a modeled output\n",
        "1. Use [EDA](https://en.wikipedia.org/wiki/Exploratory_data_analysis) to find linear and non-linear relation between inputs and outputs\n",
        "1. Try engineering new features and then dropping \"unimportant\" features (to speed up processing)\n",
        "1. Try stepwise selection and regularization and remove \"unimportant\" features from final model"
      ]
    },
    {
      "cell_type": "code",
      "execution_count": null,
      "metadata": {
        "id": "LAgIelVe1c-J"
      },
      "outputs": [],
      "source": [
        "import warnings\n",
        "warnings.filterwarnings('ignore')\n",
        "from lightgbm import LGBMRegressor\n",
        "from sklearn import preprocessing \n",
        "from sklearn.model_selection import GridSearchCV\n",
        "from sklearn.preprocessing import StandardScaler\n",
        "from sklearn.pipeline import Pipeline\n",
        "from sklearn import metrics import r2_score"
      ]
    },
    {
      "cell_type": "markdown",
      "metadata": {
        "id": "C_BOWiXlEW7K"
      },
      "source": [
        "# **EDA**\n"
      ]
    },
    {
      "cell_type": "markdown",
      "metadata": {
        "id": "E9K7S6KeJbz9"
      },
      "source": [
        "The length width and height features were removed due to their rather high correlations."
      ]
    },
    {
      "cell_type": "code",
      "execution_count": null,
      "metadata": {
        "colab": {
          "base_uri": "https://localhost:8080/"
        },
        "id": "NxbJpWQ_Y4-Y",
        "outputId": "3d625b31-ce7e-470b-f200-110245d3ce7e"
      },
      "outputs": [
        {
          "data": {
            "text/plain": [
              "symboling           -0.16\n",
              "normalized-losses    0.05\n",
              "                     ... \n",
              "horsepower           0.31\n",
              "peak-rpm            -0.02\n",
              "Length: 12, dtype: float64"
            ]
          },
          "execution_count": 86,
          "metadata": {},
          "output_type": "execute_result"
        },
        {
          "data": {
            "text/plain": [
              "symboling           -0.15\n",
              "normalized-losses    0.06\n",
              "                     ... \n",
              "horsepower           0.37\n",
              "peak-rpm            -0.02\n",
              "Length: 12, dtype: float64"
            ]
          },
          "execution_count": 86,
          "metadata": {},
          "output_type": "execute_result"
        },
        {
          "data": {
            "text/plain": [
              "symboling           -6.86e-02\n",
              "normalized-losses   -9.87e-03\n",
              "                       ...   \n",
              "horsepower           5.88e-02\n",
              "peak-rpm            -9.80e-03\n",
              "Length: 12, dtype: float64"
            ]
          },
          "execution_count": 86,
          "metadata": {},
          "output_type": "execute_result"
        }
      ],
      "source": [
        "tX.drop(\"length\", axis=1).apply(lambda x: x.corr(tX.length))\n",
        "tX.drop(\"width\", axis=1).apply(lambda x: x.corr(tX.width))\n",
        "tX.drop(\"height\", axis=1).apply(lambda x: x.corr(tX.height))"
      ]
    },
    {
      "cell_type": "code",
      "execution_count": null,
      "metadata": {
        "colab": {
          "base_uri": "https://localhost:8080/",
          "height": 231
        },
        "id": "9y63OOS5Z00C",
        "outputId": "9efcac0b-c96f-499f-9187-b3a181beff2a"
      },
      "outputs": [
        {
          "data": {
            "text/html": [
              "<div>\n",
              "<style scoped>\n",
              "    .dataframe tbody tr th:only-of-type {\n",
              "        vertical-align: middle;\n",
              "    }\n",
              "\n",
              "    .dataframe tbody tr th {\n",
              "        vertical-align: top;\n",
              "    }\n",
              "\n",
              "    .dataframe thead th {\n",
              "        text-align: right;\n",
              "    }\n",
              "</style>\n",
              "<table border=\"1\" class=\"dataframe\">\n",
              "  <thead>\n",
              "    <tr style=\"text-align: right;\">\n",
              "      <th></th>\n",
              "      <th>symboling</th>\n",
              "      <th>normalized-losses</th>\n",
              "      <th>wheel-base</th>\n",
              "      <th>length</th>\n",
              "      <th>width</th>\n",
              "      <th>height</th>\n",
              "      <th>curb-weight</th>\n",
              "      <th>engine-size</th>\n",
              "      <th>bore</th>\n",
              "      <th>stroke</th>\n",
              "      <th>compression-ratio</th>\n",
              "      <th>horsepower</th>\n",
              "      <th>peak-rpm</th>\n",
              "    </tr>\n",
              "  </thead>\n",
              "  <tbody>\n",
              "    <tr>\n",
              "      <th>823666</th>\n",
              "      <td>4.0</td>\n",
              "      <td>113.17</td>\n",
              "      <td>93.11</td>\n",
              "      <td>151.61</td>\n",
              "      <td>64.10</td>\n",
              "      <td>54.41</td>\n",
              "      <td>1944.08</td>\n",
              "      <td>85.89</td>\n",
              "      <td>3.69</td>\n",
              "      <td>3.56</td>\n",
              "      <td>13.29</td>\n",
              "      <td>73.90</td>\n",
              "      <td>4389.21</td>\n",
              "    </tr>\n",
              "    <tr>\n",
              "      <th>70066</th>\n",
              "      <td>2.0</td>\n",
              "      <td>106.02</td>\n",
              "      <td>113.33</td>\n",
              "      <td>169.99</td>\n",
              "      <td>70.34</td>\n",
              "      <td>52.00</td>\n",
              "      <td>3330.82</td>\n",
              "      <td>199.36</td>\n",
              "      <td>3.17</td>\n",
              "      <td>2.91</td>\n",
              "      <td>8.79</td>\n",
              "      <td>162.34</td>\n",
              "      <td>5097.99</td>\n",
              "    </tr>\n",
              "    <tr>\n",
              "      <th>...</th>\n",
              "      <td>...</td>\n",
              "      <td>...</td>\n",
              "      <td>...</td>\n",
              "      <td>...</td>\n",
              "      <td>...</td>\n",
              "      <td>...</td>\n",
              "      <td>...</td>\n",
              "      <td>...</td>\n",
              "      <td>...</td>\n",
              "      <td>...</td>\n",
              "      <td>...</td>\n",
              "      <td>...</td>\n",
              "      <td>...</td>\n",
              "    </tr>\n",
              "    <tr>\n",
              "      <th>305711</th>\n",
              "      <td>3.0</td>\n",
              "      <td>116.88</td>\n",
              "      <td>96.25</td>\n",
              "      <td>170.59</td>\n",
              "      <td>65.48</td>\n",
              "      <td>50.44</td>\n",
              "      <td>3347.40</td>\n",
              "      <td>158.33</td>\n",
              "      <td>3.03</td>\n",
              "      <td>3.67</td>\n",
              "      <td>8.03</td>\n",
              "      <td>88.30</td>\n",
              "      <td>4422.37</td>\n",
              "    </tr>\n",
              "    <tr>\n",
              "      <th>985772</th>\n",
              "      <td>4.0</td>\n",
              "      <td>178.41</td>\n",
              "      <td>96.54</td>\n",
              "      <td>169.49</td>\n",
              "      <td>65.68</td>\n",
              "      <td>51.46</td>\n",
              "      <td>2817.36</td>\n",
              "      <td>196.09</td>\n",
              "      <td>3.71</td>\n",
              "      <td>3.28</td>\n",
              "      <td>9.00</td>\n",
              "      <td>57.19</td>\n",
              "      <td>4516.39</td>\n",
              "    </tr>\n",
              "  </tbody>\n",
              "</table>\n",
              "<p>700000 rows × 13 columns</p>\n",
              "</div>"
            ],
            "text/plain": [
              "        symboling  normalized-losses  wheel-base  length  width  height  \\\n",
              "823666        4.0             113.17       93.11  151.61  64.10   54.41   \n",
              "70066         2.0             106.02      113.33  169.99  70.34   52.00   \n",
              "...           ...                ...         ...     ...    ...     ...   \n",
              "305711        3.0             116.88       96.25  170.59  65.48   50.44   \n",
              "985772        4.0             178.41       96.54  169.49  65.68   51.46   \n",
              "\n",
              "        curb-weight  engine-size  bore  stroke  compression-ratio  horsepower  \\\n",
              "823666      1944.08        85.89  3.69    3.56              13.29       73.90   \n",
              "70066       3330.82       199.36  3.17    2.91               8.79      162.34   \n",
              "...             ...          ...   ...     ...                ...         ...   \n",
              "305711      3347.40       158.33  3.03    3.67               8.03       88.30   \n",
              "985772      2817.36       196.09  3.71    3.28               9.00       57.19   \n",
              "\n",
              "        peak-rpm  \n",
              "823666   4389.21  \n",
              "70066    5097.99  \n",
              "...          ...  \n",
              "305711   4422.37  \n",
              "985772   4516.39  \n",
              "\n",
              "[700000 rows x 13 columns]"
            ]
          },
          "execution_count": 87,
          "metadata": {},
          "output_type": "execute_result"
        }
      ],
      "source": [
        "tX"
      ]
    },
    {
      "cell_type": "code",
      "execution_count": null,
      "metadata": {
        "colab": {
          "base_uri": "https://localhost:8080/"
        },
        "id": "1W4-qDs1zoXP",
        "outputId": "d3d0bcd3-5664-42a2-b573-c8684f233920"
      },
      "outputs": [
        {
          "data": {
            "text/plain": [
              "count        13\n",
              "unique        1\n",
              "top       False\n",
              "freq         13\n",
              "dtype: object"
            ]
          },
          "execution_count": 88,
          "metadata": {},
          "output_type": "execute_result"
        }
      ],
      "source": [
        "tX.isnull().any().describe()"
      ]
    },
    {
      "cell_type": "markdown",
      "metadata": {
        "id": "5V4h0T-cJQwj"
      },
      "source": [
        "No duplicate or missing values which is good."
      ]
    },
    {
      "cell_type": "code",
      "execution_count": null,
      "metadata": {
        "colab": {
          "base_uri": "https://localhost:8080/",
          "height": 447
        },
        "id": "TcNXORyqWO1h",
        "outputId": "e7547d59-26c7-4c1e-87ee-f8105567c6b0"
      },
      "outputs": [
        {
          "data": {
            "text/html": [
              "<div>\n",
              "<style scoped>\n",
              "    .dataframe tbody tr th:only-of-type {\n",
              "        vertical-align: middle;\n",
              "    }\n",
              "\n",
              "    .dataframe tbody tr th {\n",
              "        vertical-align: top;\n",
              "    }\n",
              "\n",
              "    .dataframe thead th {\n",
              "        text-align: right;\n",
              "    }\n",
              "</style>\n",
              "<table border=\"1\" class=\"dataframe\">\n",
              "  <thead>\n",
              "    <tr style=\"text-align: right;\">\n",
              "      <th></th>\n",
              "      <th>symboling</th>\n",
              "      <th>normalized-losses</th>\n",
              "      <th>wheel-base</th>\n",
              "      <th>length</th>\n",
              "      <th>width</th>\n",
              "      <th>height</th>\n",
              "      <th>curb-weight</th>\n",
              "      <th>engine-size</th>\n",
              "      <th>bore</th>\n",
              "      <th>stroke</th>\n",
              "      <th>compression-ratio</th>\n",
              "      <th>horsepower</th>\n",
              "      <th>peak-rpm</th>\n",
              "    </tr>\n",
              "  </thead>\n",
              "  <tbody>\n",
              "    <tr>\n",
              "      <th>symboling</th>\n",
              "      <td>1.00e+00</td>\n",
              "      <td>2.56e-01</td>\n",
              "      <td>-0.26</td>\n",
              "      <td>-0.16</td>\n",
              "      <td>-0.15</td>\n",
              "      <td>-6.86e-02</td>\n",
              "      <td>-0.12</td>\n",
              "      <td>-0.10</td>\n",
              "      <td>-5.98e-02</td>\n",
              "      <td>-5.39e-03</td>\n",
              "      <td>-2.67e-02</td>\n",
              "      <td>-9.00e-02</td>\n",
              "      <td>1.52e-02</td>\n",
              "    </tr>\n",
              "    <tr>\n",
              "      <th>normalized-losses</th>\n",
              "      <td>2.56e-01</td>\n",
              "      <td>1.00e+00</td>\n",
              "      <td>0.02</td>\n",
              "      <td>0.05</td>\n",
              "      <td>0.06</td>\n",
              "      <td>-9.87e-03</td>\n",
              "      <td>0.08</td>\n",
              "      <td>0.07</td>\n",
              "      <td>1.01e-02</td>\n",
              "      <td>4.85e-03</td>\n",
              "      <td>-2.01e-02</td>\n",
              "      <td>8.74e-02</td>\n",
              "      <td>7.74e-04</td>\n",
              "    </tr>\n",
              "    <tr>\n",
              "      <th>wheel-base</th>\n",
              "      <td>-2.61e-01</td>\n",
              "      <td>2.20e-02</td>\n",
              "      <td>1.00</td>\n",
              "      <td>0.56</td>\n",
              "      <td>0.52</td>\n",
              "      <td>1.26e-01</td>\n",
              "      <td>0.40</td>\n",
              "      <td>0.37</td>\n",
              "      <td>1.94e-01</td>\n",
              "      <td>2.16e-02</td>\n",
              "      <td>2.34e-02</td>\n",
              "      <td>3.12e-01</td>\n",
              "      <td>-2.31e-02</td>\n",
              "    </tr>\n",
              "    <tr>\n",
              "      <th>length</th>\n",
              "      <td>-1.64e-01</td>\n",
              "      <td>4.75e-02</td>\n",
              "      <td>0.56</td>\n",
              "      <td>1.00</td>\n",
              "      <td>0.42</td>\n",
              "      <td>1.26e-01</td>\n",
              "      <td>0.37</td>\n",
              "      <td>0.34</td>\n",
              "      <td>1.65e-01</td>\n",
              "      <td>2.15e-02</td>\n",
              "      <td>1.50e-02</td>\n",
              "      <td>3.06e-01</td>\n",
              "      <td>-2.31e-02</td>\n",
              "    </tr>\n",
              "    <tr>\n",
              "      <th>width</th>\n",
              "      <td>-1.47e-01</td>\n",
              "      <td>5.80e-02</td>\n",
              "      <td>0.52</td>\n",
              "      <td>0.42</td>\n",
              "      <td>1.00</td>\n",
              "      <td>9.80e-02</td>\n",
              "      <td>0.53</td>\n",
              "      <td>0.49</td>\n",
              "      <td>2.00e-01</td>\n",
              "      <td>2.71e-02</td>\n",
              "      <td>2.01e-02</td>\n",
              "      <td>3.68e-01</td>\n",
              "      <td>-2.49e-02</td>\n",
              "    </tr>\n",
              "    <tr>\n",
              "      <th>height</th>\n",
              "      <td>-6.86e-02</td>\n",
              "      <td>-9.87e-03</td>\n",
              "      <td>0.13</td>\n",
              "      <td>0.13</td>\n",
              "      <td>0.10</td>\n",
              "      <td>1.00e+00</td>\n",
              "      <td>0.08</td>\n",
              "      <td>0.07</td>\n",
              "      <td>3.56e-02</td>\n",
              "      <td>-2.59e-03</td>\n",
              "      <td>8.04e-03</td>\n",
              "      <td>5.88e-02</td>\n",
              "      <td>-9.80e-03</td>\n",
              "    </tr>\n",
              "    <tr>\n",
              "      <th>curb-weight</th>\n",
              "      <td>-1.17e-01</td>\n",
              "      <td>7.94e-02</td>\n",
              "      <td>0.40</td>\n",
              "      <td>0.37</td>\n",
              "      <td>0.53</td>\n",
              "      <td>7.99e-02</td>\n",
              "      <td>1.00</td>\n",
              "      <td>0.39</td>\n",
              "      <td>1.50e-01</td>\n",
              "      <td>2.30e-02</td>\n",
              "      <td>1.20e-02</td>\n",
              "      <td>3.36e-01</td>\n",
              "      <td>-2.06e-02</td>\n",
              "    </tr>\n",
              "    <tr>\n",
              "      <th>engine-size</th>\n",
              "      <td>-9.82e-02</td>\n",
              "      <td>6.81e-02</td>\n",
              "      <td>0.37</td>\n",
              "      <td>0.34</td>\n",
              "      <td>0.49</td>\n",
              "      <td>6.88e-02</td>\n",
              "      <td>0.39</td>\n",
              "      <td>1.00</td>\n",
              "      <td>2.15e-01</td>\n",
              "      <td>3.86e-02</td>\n",
              "      <td>1.44e-02</td>\n",
              "      <td>4.69e-01</td>\n",
              "      <td>-4.12e-02</td>\n",
              "    </tr>\n",
              "    <tr>\n",
              "      <th>bore</th>\n",
              "      <td>-5.98e-02</td>\n",
              "      <td>1.01e-02</td>\n",
              "      <td>0.19</td>\n",
              "      <td>0.17</td>\n",
              "      <td>0.20</td>\n",
              "      <td>3.56e-02</td>\n",
              "      <td>0.15</td>\n",
              "      <td>0.22</td>\n",
              "      <td>1.00e+00</td>\n",
              "      <td>-1.04e-02</td>\n",
              "      <td>6.66e-03</td>\n",
              "      <td>1.46e-01</td>\n",
              "      <td>-2.38e-02</td>\n",
              "    </tr>\n",
              "    <tr>\n",
              "      <th>stroke</th>\n",
              "      <td>-5.39e-03</td>\n",
              "      <td>4.85e-03</td>\n",
              "      <td>0.02</td>\n",
              "      <td>0.02</td>\n",
              "      <td>0.03</td>\n",
              "      <td>-2.59e-03</td>\n",
              "      <td>0.02</td>\n",
              "      <td>0.04</td>\n",
              "      <td>-1.04e-02</td>\n",
              "      <td>1.00e+00</td>\n",
              "      <td>2.54e-02</td>\n",
              "      <td>2.45e-02</td>\n",
              "      <td>9.53e-03</td>\n",
              "    </tr>\n",
              "    <tr>\n",
              "      <th>compression-ratio</th>\n",
              "      <td>-2.67e-02</td>\n",
              "      <td>-2.01e-02</td>\n",
              "      <td>0.02</td>\n",
              "      <td>0.02</td>\n",
              "      <td>0.02</td>\n",
              "      <td>8.04e-03</td>\n",
              "      <td>0.01</td>\n",
              "      <td>0.01</td>\n",
              "      <td>6.66e-03</td>\n",
              "      <td>2.54e-02</td>\n",
              "      <td>1.00e+00</td>\n",
              "      <td>8.62e-03</td>\n",
              "      <td>-1.47e-02</td>\n",
              "    </tr>\n",
              "    <tr>\n",
              "      <th>horsepower</th>\n",
              "      <td>-9.00e-02</td>\n",
              "      <td>8.74e-02</td>\n",
              "      <td>0.31</td>\n",
              "      <td>0.31</td>\n",
              "      <td>0.37</td>\n",
              "      <td>5.88e-02</td>\n",
              "      <td>0.34</td>\n",
              "      <td>0.47</td>\n",
              "      <td>1.46e-01</td>\n",
              "      <td>2.45e-02</td>\n",
              "      <td>8.62e-03</td>\n",
              "      <td>1.00e+00</td>\n",
              "      <td>-2.21e-02</td>\n",
              "    </tr>\n",
              "    <tr>\n",
              "      <th>peak-rpm</th>\n",
              "      <td>1.52e-02</td>\n",
              "      <td>7.74e-04</td>\n",
              "      <td>-0.02</td>\n",
              "      <td>-0.02</td>\n",
              "      <td>-0.02</td>\n",
              "      <td>-9.80e-03</td>\n",
              "      <td>-0.02</td>\n",
              "      <td>-0.04</td>\n",
              "      <td>-2.38e-02</td>\n",
              "      <td>9.53e-03</td>\n",
              "      <td>-1.47e-02</td>\n",
              "      <td>-2.21e-02</td>\n",
              "      <td>1.00e+00</td>\n",
              "    </tr>\n",
              "  </tbody>\n",
              "</table>\n",
              "</div>"
            ],
            "text/plain": [
              "                   symboling  normalized-losses  wheel-base  length  width  \\\n",
              "symboling           1.00e+00           2.56e-01       -0.26   -0.16  -0.15   \n",
              "normalized-losses   2.56e-01           1.00e+00        0.02    0.05   0.06   \n",
              "wheel-base         -2.61e-01           2.20e-02        1.00    0.56   0.52   \n",
              "length             -1.64e-01           4.75e-02        0.56    1.00   0.42   \n",
              "width              -1.47e-01           5.80e-02        0.52    0.42   1.00   \n",
              "height             -6.86e-02          -9.87e-03        0.13    0.13   0.10   \n",
              "curb-weight        -1.17e-01           7.94e-02        0.40    0.37   0.53   \n",
              "engine-size        -9.82e-02           6.81e-02        0.37    0.34   0.49   \n",
              "bore               -5.98e-02           1.01e-02        0.19    0.17   0.20   \n",
              "stroke             -5.39e-03           4.85e-03        0.02    0.02   0.03   \n",
              "compression-ratio  -2.67e-02          -2.01e-02        0.02    0.02   0.02   \n",
              "horsepower         -9.00e-02           8.74e-02        0.31    0.31   0.37   \n",
              "peak-rpm            1.52e-02           7.74e-04       -0.02   -0.02  -0.02   \n",
              "\n",
              "                     height  curb-weight  engine-size      bore    stroke  \\\n",
              "symboling         -6.86e-02        -0.12        -0.10 -5.98e-02 -5.39e-03   \n",
              "normalized-losses -9.87e-03         0.08         0.07  1.01e-02  4.85e-03   \n",
              "wheel-base         1.26e-01         0.40         0.37  1.94e-01  2.16e-02   \n",
              "length             1.26e-01         0.37         0.34  1.65e-01  2.15e-02   \n",
              "width              9.80e-02         0.53         0.49  2.00e-01  2.71e-02   \n",
              "height             1.00e+00         0.08         0.07  3.56e-02 -2.59e-03   \n",
              "curb-weight        7.99e-02         1.00         0.39  1.50e-01  2.30e-02   \n",
              "engine-size        6.88e-02         0.39         1.00  2.15e-01  3.86e-02   \n",
              "bore               3.56e-02         0.15         0.22  1.00e+00 -1.04e-02   \n",
              "stroke            -2.59e-03         0.02         0.04 -1.04e-02  1.00e+00   \n",
              "compression-ratio  8.04e-03         0.01         0.01  6.66e-03  2.54e-02   \n",
              "horsepower         5.88e-02         0.34         0.47  1.46e-01  2.45e-02   \n",
              "peak-rpm          -9.80e-03        -0.02        -0.04 -2.38e-02  9.53e-03   \n",
              "\n",
              "                   compression-ratio  horsepower  peak-rpm  \n",
              "symboling                  -2.67e-02   -9.00e-02  1.52e-02  \n",
              "normalized-losses          -2.01e-02    8.74e-02  7.74e-04  \n",
              "wheel-base                  2.34e-02    3.12e-01 -2.31e-02  \n",
              "length                      1.50e-02    3.06e-01 -2.31e-02  \n",
              "width                       2.01e-02    3.68e-01 -2.49e-02  \n",
              "height                      8.04e-03    5.88e-02 -9.80e-03  \n",
              "curb-weight                 1.20e-02    3.36e-01 -2.06e-02  \n",
              "engine-size                 1.44e-02    4.69e-01 -4.12e-02  \n",
              "bore                        6.66e-03    1.46e-01 -2.38e-02  \n",
              "stroke                      2.54e-02    2.45e-02  9.53e-03  \n",
              "compression-ratio           1.00e+00    8.62e-03 -1.47e-02  \n",
              "horsepower                  8.62e-03    1.00e+00 -2.21e-02  \n",
              "peak-rpm                   -1.47e-02   -2.21e-02  1.00e+00  "
            ]
          },
          "execution_count": 89,
          "metadata": {},
          "output_type": "execute_result"
        }
      ],
      "source": [
        "pd.set_option('display.max_rows', 14)\n",
        "tX.corr()"
      ]
    },
    {
      "cell_type": "code",
      "execution_count": null,
      "metadata": {
        "id": "3LGpFSkwUSM7"
      },
      "outputs": [],
      "source": [
        "tX_normalised = preprocessing.normalize(tX)\n",
        "vX_normalised = preprocessing.normalize(vX)"
      ]
    },
    {
      "cell_type": "markdown",
      "metadata": {
        "id": "Hmn_QVB6JTzB"
      },
      "source": [
        "Normalising the data."
      ]
    },
    {
      "cell_type": "markdown",
      "metadata": {
        "id": "i7kSgVCKEhBX"
      },
      "source": [
        "# **LightBoost Regression**"
      ]
    },
    {
      "cell_type": "code",
      "execution_count": null,
      "metadata": {
        "colab": {
          "base_uri": "https://localhost:8080/"
        },
        "id": "8AzenpvZEPtT",
        "outputId": "be518e1e-8357-447a-af8e-cc9c54848771"
      },
      "outputs": [
        {
          "data": {
            "text/plain": [
              "MultiOutputRegressor(estimator=LGBMRegressor(boosting_type='gbdt',\n",
              "                                             class_weight=None,\n",
              "                                             colsample_bytree=1.0,\n",
              "                                             importance_type='split',\n",
              "                                             learning_rate=1, max_depth=20,\n",
              "                                             min_child_samples=20,\n",
              "                                             min_child_weight=0.001,\n",
              "                                             min_split_gain=0.0,\n",
              "                                             n_estimators=370, n_jobs=-1,\n",
              "                                             num_leaves=31, objective=None,\n",
              "                                             random_state=1, reg_alpha=0.0,\n",
              "                                             reg_lambda=0.0, silent=True,\n",
              "                                             subsample=1.0,\n",
              "                                             subsample_for_bin=200000,\n",
              "                                             subsample_freq=0),\n",
              "                     n_jobs=None)"
            ]
          },
          "execution_count": 92,
          "metadata": {},
          "output_type": "execute_result"
        }
      ],
      "source": [
        "model = MultiOutputRegressor(LGBMRegressor(n_estimators = 370, learning_rate = 1, max_depth = 20, random_state=1))\n",
        "model.fit(tX, tY)"
      ]
    },
    {
      "cell_type": "code",
      "execution_count": null,
      "metadata": {
        "colab": {
          "base_uri": "https://localhost:8080/"
        },
        "id": "z4WzgckNEhzT",
        "outputId": "3c3971d5-0f49-4fc0-bf01-a186d680dd76"
      },
      "outputs": [
        {
          "name": "stdout",
          "output_type": "stream",
          "text": [
            "In-sample R^2 = 0.4970\n"
          ]
        }
      ],
      "source": [
        "print(f'In-sample R^2 = {model.score(tX, tY):.4f}')"
      ]
    },
    {
      "cell_type": "code",
      "execution_count": null,
      "metadata": {
        "id": "vJcjh0KUNFnf"
      },
      "outputs": [],
      "source": [
        "pY = pd.DataFrame(model.predict(vX), index=vX.index, columns=YCols)\n",
        "ToCSV(pY, 'idk')"
      ]
    },
    {
      "cell_type": "code",
      "execution_count": null,
      "metadata": {
        "colab": {
          "base_uri": "https://localhost:8080/",
          "height": 414
        },
        "id": "_GAukGSSRkKD",
        "outputId": "447964a2-1be7-4257-d414-cd624d918936"
      },
      "outputs": [
        {
          "data": {
            "text/html": [
              "<div>\n",
              "<style scoped>\n",
              "    .dataframe tbody tr th:only-of-type {\n",
              "        vertical-align: middle;\n",
              "    }\n",
              "\n",
              "    .dataframe tbody tr th {\n",
              "        vertical-align: top;\n",
              "    }\n",
              "\n",
              "    .dataframe thead th {\n",
              "        text-align: right;\n",
              "    }\n",
              "</style>\n",
              "<table border=\"1\" class=\"dataframe\">\n",
              "  <thead>\n",
              "    <tr style=\"text-align: right;\">\n",
              "      <th></th>\n",
              "      <th>city-mpg</th>\n",
              "      <th>highway-mpg</th>\n",
              "      <th>price</th>\n",
              "    </tr>\n",
              "  </thead>\n",
              "  <tbody>\n",
              "    <tr>\n",
              "      <th>157105</th>\n",
              "      <td>27.49</td>\n",
              "      <td>32.33</td>\n",
              "      <td>8663.37</td>\n",
              "    </tr>\n",
              "    <tr>\n",
              "      <th>374554</th>\n",
              "      <td>24.98</td>\n",
              "      <td>29.82</td>\n",
              "      <td>9662.85</td>\n",
              "    </tr>\n",
              "    <tr>\n",
              "      <th>688694</th>\n",
              "      <td>25.97</td>\n",
              "      <td>31.48</td>\n",
              "      <td>9200.60</td>\n",
              "    </tr>\n",
              "    <tr>\n",
              "      <th>265381</th>\n",
              "      <td>26.27</td>\n",
              "      <td>35.49</td>\n",
              "      <td>15984.83</td>\n",
              "    </tr>\n",
              "    <tr>\n",
              "      <th>955415</th>\n",
              "      <td>25.17</td>\n",
              "      <td>32.11</td>\n",
              "      <td>6595.69</td>\n",
              "    </tr>\n",
              "    <tr>\n",
              "      <th>...</th>\n",
              "      <td>...</td>\n",
              "      <td>...</td>\n",
              "      <td>...</td>\n",
              "    </tr>\n",
              "    <tr>\n",
              "      <th>676100</th>\n",
              "      <td>21.11</td>\n",
              "      <td>26.64</td>\n",
              "      <td>17778.53</td>\n",
              "    </tr>\n",
              "    <tr>\n",
              "      <th>732857</th>\n",
              "      <td>31.35</td>\n",
              "      <td>31.08</td>\n",
              "      <td>5779.57</td>\n",
              "    </tr>\n",
              "    <tr>\n",
              "      <th>30508</th>\n",
              "      <td>28.77</td>\n",
              "      <td>32.95</td>\n",
              "      <td>8702.84</td>\n",
              "    </tr>\n",
              "    <tr>\n",
              "      <th>952836</th>\n",
              "      <td>26.17</td>\n",
              "      <td>31.22</td>\n",
              "      <td>10823.00</td>\n",
              "    </tr>\n",
              "    <tr>\n",
              "      <th>374097</th>\n",
              "      <td>30.26</td>\n",
              "      <td>35.44</td>\n",
              "      <td>6980.46</td>\n",
              "    </tr>\n",
              "  </tbody>\n",
              "</table>\n",
              "<p>300000 rows × 3 columns</p>\n",
              "</div>"
            ],
            "text/plain": [
              "        city-mpg  highway-mpg     price\n",
              "157105     27.49        32.33   8663.37\n",
              "374554     24.98        29.82   9662.85\n",
              "688694     25.97        31.48   9200.60\n",
              "265381     26.27        35.49  15984.83\n",
              "955415     25.17        32.11   6595.69\n",
              "...          ...          ...       ...\n",
              "676100     21.11        26.64  17778.53\n",
              "732857     31.35        31.08   5779.57\n",
              "30508      28.77        32.95   8702.84\n",
              "952836     26.17        31.22  10823.00\n",
              "374097     30.26        35.44   6980.46\n",
              "\n",
              "[300000 rows x 3 columns]"
            ]
          },
          "execution_count": 97,
          "metadata": {},
          "output_type": "execute_result"
        }
      ],
      "source": [
        "pY"
      ]
    },
    {
      "cell_type": "code",
      "execution_count": null,
      "metadata": {
        "colab": {
          "base_uri": "https://localhost:8080/"
        },
        "id": "R5N06dcabWnN",
        "outputId": "b12f9900-9449-42ea-d8fc-30d76395dd29"
      },
      "outputs": [
        {
          "name": "stdout",
          "output_type": "stream",
          "text": [
            "Runtime is 60 sec\n"
          ]
        }
      ],
      "source": [
        "tmr.ShowTime()    # measure Colab's runtime. Do not remove. Keep as the last cell in your notebook."
      ]
    }
  ],
  "metadata": {
    "colab": {
      "collapsed_sections": [],
      "name": " \"HW08-Auto[Parakal, Repin, Calmanovici].ipynb\"",
      "provenance": []
    },
    "kernelspec": {
      "display_name": "Python 3",
      "name": "python3"
    },
    "language_info": {
      "name": "python"
    }
  },
  "nbformat": 4,
  "nbformat_minor": 0
}
